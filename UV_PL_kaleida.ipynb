{
  "nbformat": 4,
  "nbformat_minor": 0,
  "metadata": {
    "colab": {
      "provenance": [],
      "mount_file_id": "10SGC98GHo12TAsZ1cpv5BGucs6hZTCNf",
      "authorship_tag": "ABX9TyOYMIpWf86x5otRxFfYLFUQ",
      "include_colab_link": true
    },
    "kernelspec": {
      "name": "python3",
      "display_name": "Python 3"
    },
    "language_info": {
      "name": "python"
    }
  },
  "cells": [
    {
      "cell_type": "markdown",
      "metadata": {
        "id": "view-in-github",
        "colab_type": "text"
      },
      "source": [
        "<a href=\"https://colab.research.google.com/github/ryota1431/qda_script/blob/main/UV_PL_kaleida.ipynb\" target=\"_parent\"><img src=\"https://colab.research.google.com/assets/colab-badge.svg\" alt=\"Open In Colab\"/></a>"
      ]
    },
    {
      "cell_type": "markdown",
      "source": [
        "# Pythonを用いたグラフを重ねる操作の自動化【Kaleida Graph】\n",
        "\n",
        "滴定試験等で複数のデータをプロットするためのqdaファイルを作成します。\n",
        "\n",
        "### 滴定試験のファイルの命名規則について\n",
        "以下の命名規則に従ってファイル名を付けてください。\n",
        "- UVの場合\n",
        "```\n",
        "yyyymmdd_compoundname_salt_eq_solvent_nuL.txt\n",
        "```\n",
        "- PLの場合\n",
        "```\n",
        "yyyymmdd_compoundname_salt_eq_solvent_wavelength_nuL.txt\n",
        "```\n",
        "\n",
        "| 項目         | 説明                                           |\n",
        "|--------------|------------------------------------------------|\n",
        "| yyyymmdd     | 20241121のような形式の日付                     |\n",
        "| compoundname | 化合物名                                       |\n",
        "| salt         | 滴下した塩                                     |\n",
        "| solvent      | 溶媒                                           |\n",
        "| wavelength   | 励起波長 \"300nm\",\"400nm\"のように単位をつける   |\n",
        "| nuL          | 滴下した塩の量 \"0uL\",\"2uL\"のように単位をつける (uL以外はつけないでください) |\n",
        "\n",
        "---\n",
        "\n",
        "## Step 1: 必要なライブラリのインストールとインポート"
      ],
      "metadata": {
        "id": "DRX9S1AYBqqq"
      }
    },
    {
      "cell_type": "code",
      "execution_count": null,
      "metadata": {
        "id": "mt-bhHo0_Sre"
      },
      "outputs": [],
      "source": [
        "! pip install qdafile\n",
        "import matplotlib.pyplot as plt\n",
        "from matplotlib.ticker import FixedLocator\n",
        "import os\n",
        "from qdafile import QDAfile"
      ]
    },
    {
      "cell_type": "markdown",
      "source": [
        "## Step2: 必要な関数の定義"
      ],
      "metadata": {
        "id": "FmyHZF0qLJ-Y"
      }
    },
    {
      "cell_type": "code",
      "source": [
        "import os\n",
        "from qdafile import QDAfile\n",
        "\n",
        "# ディレクトリにあるtxtファイルの名前のリストを取得する関数\n",
        "def get_txt_list(directory):\n",
        "    txt_list = []\n",
        "    for file in os.listdir(directory):\n",
        "        if file.endswith('.txt'):\n",
        "            txt_list.append(file)\n",
        "    return txt_list\n",
        "\n",
        "#txtファイルの名前のリストをソートする関数\n",
        "#filenameの形式　yyyymmdd_reactant_ion_eq_solvent_nuL.txt\n",
        "#yyyymmddは日付、reactantは反応物、ionはイオン、eqは当量、solventは溶媒、nuLは滴下したイオンの量\n",
        "#滴下したイオンの量でソートする\n",
        "def sort_txt_list(txt_list):\n",
        "    def extract_number(filename):\n",
        "        # ファイル名の最後の部分を取得し、'uL'または'μL'を削除して数値に変換\n",
        "        try:\n",
        "            return int(filename.split('_')[-1].replace('μL', '').split('.')[0])\n",
        "        except ValueError:\n",
        "            pass\n",
        "        try:\n",
        "            return int(filename.split('_')[-1].replace('uL', '').split('.')[0])\n",
        "        except ValueError:\n",
        "            return float('inf')  # 数値が見つからない場合は無限大を返す\n",
        "\n",
        "    txt_list.sort(key=extract_number)\n",
        "    nuL_list = []\n",
        "    for txt in txt_list:\n",
        "        # ファイル名の最後の部分を取得し、'uL'または'μL'を削除して数値に変換\n",
        "        nuL_list.append(txt.split('_')[-1].replace('u', '').replace('µ', '').replace('L', '').split('.')[0])\n",
        "\n",
        "    for i in range(len(nuL_list)):\n",
        "        nuL_list[i] = int(nuL_list[i])\n",
        "\n",
        "    return txt_list, nuL_list\n",
        "\n",
        "# tab区切りのtxtファイルを読み込む関数\n",
        "def read_txt(file_path):\n",
        "    with open(file_path, 'r', encoding='shift_jis') as file:\n",
        "        data = file.readlines()\n",
        "\n",
        "    # 空行や変換できない文字列をスキップ\n",
        "    processed_data = {}\n",
        "    for line in data:\n",
        "        try:\n",
        "            processed_line = [float(x) for x in line.split()]\n",
        "            if len(processed_line) >= 2:\n",
        "                processed_data[processed_line[0]] = processed_line[1]\n",
        "        except ValueError:\n",
        "            continue\n",
        "\n",
        "    return processed_data\n",
        "\n",
        "# ディレクトリにあるtxtファイルを読み込んで、辞書に格納する関数\n",
        "# 辞書のキーは波長、値は吸光度\n",
        "def read_txts(directory):\n",
        "    txt_list = get_txt_list(directory)\n",
        "    txt_list, nuL_list = sort_txt_list(txt_list)\n",
        "    list_of_data = []\n",
        "    for txt in txt_list:\n",
        "        list_of_data.append(read_txt(os.path.join(directory, txt)))\n",
        "    return list_of_data, nuL_list\n",
        "\n",
        "# qdaを作成する関数\n",
        "# dataには2次元リストを格納する。\n",
        "# data = [[wavelength1, wavelength2, ...], [absorbance1-1, absorbance1-2, ...], [absorbance2-1, absorbance2-2, ...], ...]\n",
        "def create_qda_file(directory, output_file):\n",
        "    # 全ての波長を取得\n",
        "    list_of_data, nuL_list = read_txts(directory)\n",
        "    all_wavelengths = sorted(set().union(*[data.keys() for data in list_of_data]))\n",
        "\n",
        "    # 吸光度データを並べる\n",
        "    qda_data = []\n",
        "    qda_data.append(all_wavelengths)\n",
        "    for data in list_of_data:\n",
        "        qda_data.append([data.get(wavelength, 0) for wavelength in all_wavelengths])\n",
        "\n",
        "    # QDAファイルに書き込む\n",
        "    headers = ['Wavelength']\n",
        "    for nuL in nuL_list:\n",
        "        headers.append(f'{nuL}uL')\n",
        "\n",
        "    dtypes = ['>f8'] * len(headers)\n",
        "\n",
        "    qda = QDAfile(qda_data, headers=headers, dtypes=dtypes)\n",
        "    qda.write(f\"/content/drive/MyDrive/uvpldata/qda/{output_file}\")"
      ],
      "metadata": {
        "id": "A3-xHtGWLKsw"
      },
      "execution_count": null,
      "outputs": []
    },
    {
      "cell_type": "markdown",
      "source": [
        "## Step3: データファイルのインポート\n",
        "---\n",
        "google driveのMyDrive直下にuvpldataというフォルダを作成して、そのフォルダの直下にdata,qda,svgという名前のフォルダを作成してください。\n",
        "\n",
        "dataの中に滴定のデータをつっこんでください。"
      ],
      "metadata": {
        "id": "bao518jbMNqf"
      }
    },
    {
      "cell_type": "code",
      "source": [
        "# Googleドライブにマウント\n",
        "from google.colab import drive\n",
        "drive.mount('/content/drive')"
      ],
      "metadata": {
        "id": "hlDLjNKpNSnN"
      },
      "execution_count": null,
      "outputs": []
    },
    {
      "cell_type": "markdown",
      "source": [
        "  ## Step4: データプレビュー用の関数定義"
      ],
      "metadata": {
        "id": "ua9aSaVoJ2NB"
      }
    },
    {
      "cell_type": "code",
      "source": [
        "import matplotlib.pyplot as plt\n",
        "\n",
        "def plot_spectra(directory, title, y_label, xlim_range, output_dir):\n",
        "    # データと滴下量を読み込み\n",
        "    list_of_data, nuL_list = read_txts(directory)\n",
        "\n",
        "    plt.figure(figsize=(6, 4))\n",
        "    plt.rcParams['font.family'] = 'sans-serif'\n",
        "\n",
        "    for data, nuL in zip(list_of_data, nuL_list):\n",
        "        wavelengths = sorted(data.keys())\n",
        "        values = [data[wl] for wl in wavelengths]\n",
        "\n",
        "        if nuL == 0:\n",
        "            color = 'red'\n",
        "            line = 2\n",
        "        elif nuL == max(nuL_list):\n",
        "            color = 'blue'\n",
        "            line = 2\n",
        "        else:\n",
        "            color = 'black'\n",
        "            line = 1.0\n",
        "\n",
        "        plt.plot(\n",
        "            wavelengths, values,\n",
        "            color=color,\n",
        "            linestyle='-',\n",
        "            linewidth=line,\n",
        "            marker='o',\n",
        "            markersize=0,\n",
        "            markerfacecolor='white',\n",
        "            markeredgewidth=1.5,\n",
        "            label=f'{nuL} uL'\n",
        "        )\n",
        "\n",
        "    plt.xlabel('Wavelength (nm)', fontsize=14, fontweight='bold', color='k')\n",
        "    plt.xlim(*xlim_range)\n",
        "    plt.ylim(0,)\n",
        "    plt.ylabel(y_label, fontsize=14, fontweight='bold', color='k')\n",
        "    plt.title(title)\n",
        "    plt.legend(title='Drop volume', loc='center left', bbox_to_anchor=(1, 0.5))\n",
        "    plt.grid(False)\n",
        "    plt.tight_layout()\n",
        "    plt.tick_params(axis='both', direction='in')\n",
        "    plt.savefig(f'{output_dir}/{title}.svg', format='svg', bbox_inches='tight')\n",
        "    plt.show()"
      ],
      "metadata": {
        "id": "eWDdfV63Dv-_"
      },
      "execution_count": null,
      "outputs": []
    },
    {
      "cell_type": "markdown",
      "source": [
        "## Step5: QDAfileの生成とプレビュー"
      ],
      "metadata": {
        "id": "BOPhE_cYKMY-"
      }
    },
    {
      "cell_type": "code",
      "source": [
        "folder_list = os.listdir('/content/drive/MyDrive/uvpldata/data')\n",
        "print(folder_list)\n",
        "\n",
        "# dataフォルダ内の各フォルダに対してqdaファイルを作成する\n",
        "for folder in folder_list:\n",
        "    directory = os.path.join('/content/drive/MyDrive/uvpldata/data', folder)\n",
        "    if os.path.isdir(directory):\n",
        "        print(f\"{folder}\")\n",
        "        create_qda_file(f'{directory}', f'{folder}.qda')\n",
        "        if folder.split(\"_\")[-1] == \"UV\":\n",
        "            plot_spectra(directory, folder, y_label='Absorbance', xlim_range=(250, 500), output_dir='/content/drive/MyDrive/uvpldata/svg')\n",
        "        if folder.split(\"_\")[-1] == \"PL\":\n",
        "            plot_spectra(directory, folder, y_label='Intensity', xlim_range=(350, 650), output_dir='/content/drive/MyDrive/uvpldata/svg')\n",
        "    else:\n",
        "        print(f\"Skipping non-directory: {directory}\")"
      ],
      "metadata": {
        "id": "AHw5iYhSDxx0"
      },
      "execution_count": null,
      "outputs": []
    }
  ]
}